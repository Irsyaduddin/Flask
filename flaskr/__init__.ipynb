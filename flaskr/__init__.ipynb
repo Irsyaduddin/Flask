{
 "cells": [
  {
   "cell_type": "code",
   "execution_count": 22,
   "metadata": {
    "ExecuteTime": {
     "end_time": "2019-09-20T07:21:10.896020Z",
     "start_time": "2019-09-20T07:21:10.890505Z"
    }
   },
   "outputs": [
    {
     "name": "stdout",
     "output_type": "stream",
     "text": [
      "Overwriting __init__.py\n"
     ]
    }
   ],
   "source": [
    "%%writefile __init__.py\n",
    "import os\n",
    "\n",
    "from flask import Flask\n",
    "\n",
    "def create_app(test_config=None):\n",
    "    # create and configure the app\n",
    "    app = Flask(__name__, instance_relative_config=True)\n",
    "    app.config.from_mapping(\n",
    "        SECRET_KEY='dev',\n",
    "        DATABASE=os.path.join(app.instance_path, 'flask.sqlite'),\n",
    "    )\n",
    "    \n",
    "    if test_config is None:\n",
    "        # load the instance config, if it exists, when not testing\n",
    "        app.config.from_pyfile('config.py', silent=True)\n",
    "    else:\n",
    "        # load the test config if passed in\n",
    "        app.config.from_mapping(test_config)\n",
    "        \n",
    "    # ensure the instance folder exists\n",
    "    try:\n",
    "        os.makedirs(app.instance_path)\n",
    "    except OSError:\n",
    "        pass\n",
    "    \n",
    "    # a simple page that says hello\n",
    "    @app.route('/hello')\n",
    "    def hello():\n",
    "        return 'Hello, world!'\n",
    "    \n",
    "#     from . import db\n",
    "#     db.init_app(app)\n",
    "    return app"
   ]
  },
  {
   "cell_type": "code",
   "execution_count": 23,
   "metadata": {
    "ExecuteTime": {
     "end_time": "2019-09-20T07:23:54.317610Z",
     "start_time": "2019-09-20T07:23:54.311618Z"
    }
   },
   "outputs": [
    {
     "name": "stdout",
     "output_type": "stream",
     "text": [
      "Writing db.py\n"
     ]
    }
   ],
   "source": [
    "%%writefile db.py\n",
    "import sqlite3\n",
    "\n",
    "import click\n",
    "from flask import current_app, g\n",
    "from flask.cli import with_appcontext\n",
    "\n",
    "def get_db():\n",
    "    if 'db' not in g:\n",
    "        g.db = sqlite3.connect(\n",
    "            current_app.config['DATABASE'],\n",
    "            detect_types=sqlite3.PARSE_DECLTYPES\n",
    "        )\n",
    "        g.db.row_factory = sqlite3.Row\n",
    "    \n",
    "    return g.db\n",
    "\n",
    "def close_db(e=none):\n",
    "    db = g.pop('db', None)\n",
    "    \n",
    "    if db is not None:\n",
    "        db.close()\n",
    "        \n",
    "def init_db():\n",
    "    db = get_db()\n",
    "    \n",
    "    with current_app.open_resource('schema.sql') as f:\n",
    "        db.executescript(f.read().decode('utf8'))\n",
    "        \n",
    "@click.command('init-db')\n",
    "@with_appcontext\n",
    "def init_db_command():\n",
    "    '''\n",
    "    Clear the existing data and create new tables.\n",
    "    '''\n",
    "    init_db()\n",
    "    click.echo('Initialized the database.')\n",
    "    \n",
    "def init_app(app):\n",
    "    app.teardown_appcontext(close_db)\n",
    "    app.cli.add_command(init_db_command)"
   ]
  },
  {
   "cell_type": "code",
   "execution_count": 4,
   "metadata": {
    "ExecuteTime": {
     "end_time": "2019-09-20T06:58:28.825161Z",
     "start_time": "2019-09-20T06:58:28.816130Z"
    }
   },
   "outputs": [
    {
     "name": "stdout",
     "output_type": "stream",
     "text": [
      "Writing schema.sql\n"
     ]
    }
   ],
   "source": [
    "%%writefile schema.sql\n",
    "DROP TABLE IF EXISTS user;\n",
    "DROP TABLE IF EXISTS post;\n",
    "\n",
    "CREATE TABLE user (\n",
    "    id INTEGER PRIMARY KEY AUTOINCREMENT,\n",
    "    username TEXT UNIQUE NOT NULL,\n",
    "    password TEXT NOT NULL\n",
    ");\n",
    "\n",
    "CREATE TABLE post (\n",
    "    id INTEGER PRIMARY KEY AUTOINCREMENT,\n",
    "    author TIMESTAMP NOT NULL DEFAULT CURRENT_TIMESTAMP,\n",
    "    title TEXT NOT NULL,\n",
    "    body TEXT NOT NULL,\n",
    "    FOREIGN KEY (author_id) REFERENCES user (id)\n",
    ");"
   ]
  },
  {
   "cell_type": "code",
   "execution_count": 14,
   "metadata": {
    "ExecuteTime": {
     "end_time": "2019-09-20T07:13:41.137120Z",
     "start_time": "2019-09-20T07:13:41.133643Z"
    }
   },
   "outputs": [
    {
     "data": {
      "text/plain": [
       "'.'"
      ]
     },
     "execution_count": 14,
     "metadata": {},
     "output_type": "execute_result"
    }
   ],
   "source": [
    "import os\n",
    "os.curdir"
   ]
  },
  {
   "cell_type": "code",
   "execution_count": 16,
   "metadata": {
    "ExecuteTime": {
     "end_time": "2019-09-20T07:14:46.974920Z",
     "start_time": "2019-09-20T07:14:46.971402Z"
    }
   },
   "outputs": [
    {
     "name": "stdout",
     "output_type": "stream",
     "text": [
      "[WinError 2] The system cannot find the file specified: \"'..'\"\n",
      "C:\\Users\\Mohammad-A.Musa\n"
     ]
    }
   ],
   "source": []
  },
  {
   "cell_type": "code",
   "execution_count": 19,
   "metadata": {
    "ExecuteTime": {
     "end_time": "2019-09-20T07:16:39.133448Z",
     "start_time": "2019-09-20T07:16:39.130412Z"
    }
   },
   "outputs": [],
   "source": [
    "from flask import Flask\n",
    "import click\n",
    "from flask import current_app, g\n",
    "from flask.cli import with_appcontext"
   ]
  },
  {
   "cell_type": "code",
   "execution_count": 24,
   "metadata": {
    "ExecuteTime": {
     "end_time": "2019-09-20T07:26:22.692733Z",
     "start_time": "2019-09-20T07:26:22.689224Z"
    }
   },
   "outputs": [
    {
     "name": "stdout",
     "output_type": "stream",
     "text": [
      "C:\\Users\\Mohammad-A.Musa\n"
     ]
    }
   ],
   "source": [
    "cd ."
   ]
  },
  {
   "cell_type": "code",
   "execution_count": 25,
   "metadata": {
    "ExecuteTime": {
     "end_time": "2019-09-20T07:26:37.207324Z",
     "start_time": "2019-09-20T07:26:37.199293Z"
    }
   },
   "outputs": [
    {
     "name": "stdout",
     "output_type": "stream",
     "text": [
      "C:\\Users\\Mohammad-A.Musa\\Notebooks\\Flask\n"
     ]
    }
   ],
   "source": [
    "cd Notebooks/Flask"
   ]
  },
  {
   "cell_type": "code",
   "execution_count": 26,
   "metadata": {
    "ExecuteTime": {
     "end_time": "2019-09-20T07:26:40.018545Z",
     "start_time": "2019-09-20T07:26:40.015534Z"
    }
   },
   "outputs": [
    {
     "name": "stdout",
     "output_type": "stream",
     "text": [
      "C:\\Users\\Mohammad-A.Musa\\Notebooks\\Flask\n"
     ]
    }
   ],
   "source": [
    "cd ."
   ]
  },
  {
   "cell_type": "code",
   "execution_count": 27,
   "metadata": {
    "ExecuteTime": {
     "end_time": "2019-09-20T07:26:56.088468Z",
     "start_time": "2019-09-20T07:26:56.079444Z"
    }
   },
   "outputs": [
    {
     "name": "stdout",
     "output_type": "stream",
     "text": [
      "C:\\Users\\Mohammad-A.Musa\\Notebooks\\Flask\\Flaskr\n"
     ]
    }
   ],
   "source": [
    "cd Flaskr"
   ]
  },
  {
   "cell_type": "code",
   "execution_count": 28,
   "metadata": {
    "ExecuteTime": {
     "end_time": "2019-09-20T07:27:00.274949Z",
     "start_time": "2019-09-20T07:27:00.271399Z"
    }
   },
   "outputs": [
    {
     "name": "stdout",
     "output_type": "stream",
     "text": [
      "C:\\Users\\Mohammad-A.Musa\\Notebooks\\Flask\\Flaskr\n"
     ]
    }
   ],
   "source": [
    "cd ."
   ]
  },
  {
   "cell_type": "code",
   "execution_count": 34,
   "metadata": {
    "ExecuteTime": {
     "end_time": "2019-09-20T07:27:41.086978Z",
     "start_time": "2019-09-20T07:27:41.070435Z"
    }
   },
   "outputs": [
    {
     "ename": "NameError",
     "evalue": "name 'none' is not defined",
     "output_type": "error",
     "traceback": [
      "\u001b[1;31m---------------------------------------------------------------------------\u001b[0m",
      "\u001b[1;31mNameError\u001b[0m                                 Traceback (most recent call last)",
      "\u001b[1;32m<ipython-input-34-37cf6c938e24>\u001b[0m in \u001b[0;36m<module>\u001b[1;34m\u001b[0m\n\u001b[1;32m----> 1\u001b[1;33m \u001b[1;32mimport\u001b[0m \u001b[0mdb\u001b[0m\u001b[1;33m\u001b[0m\u001b[1;33m\u001b[0m\u001b[0m\n\u001b[0m",
      "\u001b[1;32m~\\Notebooks\\Flask\\flaskr\\db.py\u001b[0m in \u001b[0;36m<module>\u001b[1;34m\u001b[0m\n\u001b[0;32m     15\u001b[0m     \u001b[1;32mreturn\u001b[0m \u001b[0mg\u001b[0m\u001b[1;33m.\u001b[0m\u001b[0mdb\u001b[0m\u001b[1;33m\u001b[0m\u001b[1;33m\u001b[0m\u001b[0m\n\u001b[0;32m     16\u001b[0m \u001b[1;33m\u001b[0m\u001b[0m\n\u001b[1;32m---> 17\u001b[1;33m \u001b[1;32mdef\u001b[0m \u001b[0mclose_db\u001b[0m\u001b[1;33m(\u001b[0m\u001b[0me\u001b[0m\u001b[1;33m=\u001b[0m\u001b[0mnone\u001b[0m\u001b[1;33m)\u001b[0m\u001b[1;33m:\u001b[0m\u001b[1;33m\u001b[0m\u001b[1;33m\u001b[0m\u001b[0m\n\u001b[0m\u001b[0;32m     18\u001b[0m     \u001b[0mdb\u001b[0m \u001b[1;33m=\u001b[0m \u001b[0mg\u001b[0m\u001b[1;33m.\u001b[0m\u001b[0mpop\u001b[0m\u001b[1;33m(\u001b[0m\u001b[1;34m'db'\u001b[0m\u001b[1;33m,\u001b[0m \u001b[1;32mNone\u001b[0m\u001b[1;33m)\u001b[0m\u001b[1;33m\u001b[0m\u001b[1;33m\u001b[0m\u001b[0m\n\u001b[0;32m     19\u001b[0m \u001b[1;33m\u001b[0m\u001b[0m\n",
      "\u001b[1;31mNameError\u001b[0m: name 'none' is not defined"
     ]
    }
   ],
   "source": [
    "import db"
   ]
  },
  {
   "cell_type": "code",
   "execution_count": null,
   "metadata": {},
   "outputs": [],
   "source": []
  }
 ],
 "metadata": {
  "hide_input": false,
  "kernelspec": {
   "display_name": "Python 3",
   "language": "python",
   "name": "python3"
  },
  "language_info": {
   "codemirror_mode": {
    "name": "ipython",
    "version": 3
   },
   "file_extension": ".py",
   "mimetype": "text/x-python",
   "name": "python",
   "nbconvert_exporter": "python",
   "pygments_lexer": "ipython3",
   "version": "3.7.3"
  },
  "varInspector": {
   "cols": {
    "lenName": 16,
    "lenType": 16,
    "lenVar": 40
   },
   "kernels_config": {
    "python": {
     "delete_cmd_postfix": "",
     "delete_cmd_prefix": "del ",
     "library": "var_list.py",
     "varRefreshCmd": "print(var_dic_list())"
    },
    "r": {
     "delete_cmd_postfix": ") ",
     "delete_cmd_prefix": "rm(",
     "library": "var_list.r",
     "varRefreshCmd": "cat(var_dic_list()) "
    }
   },
   "types_to_exclude": [
    "module",
    "function",
    "builtin_function_or_method",
    "instance",
    "_Feature"
   ],
   "window_display": false
  }
 },
 "nbformat": 4,
 "nbformat_minor": 2
}
