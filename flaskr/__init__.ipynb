{
 "cells": [
  {
   "cell_type": "code",
   "execution_count": 56,
   "metadata": {
    "ExecuteTime": {
     "end_time": "2019-09-24T01:56:33.013785Z",
     "start_time": "2019-09-24T01:56:33.005757Z"
    }
   },
   "outputs": [
    {
     "name": "stdout",
     "output_type": "stream",
     "text": [
      "Writing setup.py\n"
     ]
    }
   ],
   "source": [
    "%%writefile setup.py\n",
    "from setuptools import find_packages, setup\n",
    "\n",
    "setup(\n",
    "    name='flaskr',\n",
    "    version='1.0.0',\n",
    "    packages=find_packages(),\n",
    "    include_package_data=True,\n",
    "    zip_safe=False,\n",
    "    install_requires=[\n",
    "        'flask',\n",
    "    ],\n",
    ")"
   ]
  },
  {
   "cell_type": "code",
   "execution_count": 57,
   "metadata": {
    "ExecuteTime": {
     "end_time": "2019-09-24T01:57:43.877658Z",
     "start_time": "2019-09-24T01:57:43.869584Z"
    }
   },
   "outputs": [
    {
     "name": "stdout",
     "output_type": "stream",
     "text": [
      "Writing MANIFEST.in\n"
     ]
    }
   ],
   "source": [
    "%%writefile MANIFEST.in\n",
    "include flaskr/schema.sql\n",
    "graft flaskr/static\n",
    "graft flaskr/templates\n",
    "global-exclude *.pyc"
   ]
  },
  {
   "cell_type": "code",
   "execution_count": 60,
   "metadata": {
    "ExecuteTime": {
     "end_time": "2019-09-24T01:59:28.917716Z",
     "start_time": "2019-09-24T01:59:13.742496Z"
    }
   },
   "outputs": [
    {
     "name": "stdout",
     "output_type": "stream",
     "text": [
      "Obtaining file:///C:/Users/Mohammad-A.Musa/Notebooks/Flask/Flask\n",
      "Requirement already satisfied: flask in c:\\users\\mohammad-a.musa\\appdata\\anaconda\\lib\\site-packages (from flaskr==1.0.0) (1.1.1)\n",
      "Requirement already satisfied: click>=5.1 in c:\\users\\mohammad-a.musa\\appdata\\anaconda\\lib\\site-packages (from flask->flaskr==1.0.0) (7.0)\n",
      "Requirement already satisfied: Werkzeug>=0.15 in c:\\users\\mohammad-a.musa\\appdata\\anaconda\\lib\\site-packages (from flask->flaskr==1.0.0) (0.15.4)\n",
      "Requirement already satisfied: itsdangerous>=0.24 in c:\\users\\mohammad-a.musa\\appdata\\anaconda\\lib\\site-packages (from flask->flaskr==1.0.0) (1.1.0)\n",
      "Requirement already satisfied: Jinja2>=2.10.1 in c:\\users\\mohammad-a.musa\\appdata\\anaconda\\lib\\site-packages (from flask->flaskr==1.0.0) (2.10.1)\n",
      "Requirement already satisfied: MarkupSafe>=0.23 in c:\\users\\mohammad-a.musa\\appdata\\anaconda\\lib\\site-packages (from Jinja2>=2.10.1->flask->flaskr==1.0.0) (1.1.1)\n",
      "Installing collected packages: flaskr\n",
      "  Found existing installation: flaskr 1.0.0\n",
      "    Can't uninstall 'flaskr'. No files were found to uninstall.\n",
      "  Running setup.py develop for flaskr\n",
      "Successfully installed flaskr\n",
      "Note: you may need to restart the kernel to use updated packages.\n"
     ]
    }
   ],
   "source": [
    "pip install -e ."
   ]
  },
  {
   "cell_type": "code",
   "execution_count": 61,
   "metadata": {
    "ExecuteTime": {
     "end_time": "2019-09-24T01:59:54.207361Z",
     "start_time": "2019-09-24T01:59:49.390955Z"
    }
   },
   "outputs": [
    {
     "name": "stdout",
     "output_type": "stream",
     "text": [
      "Package                            Version   Location                                      \n",
      "---------------------------------- --------- ----------------------------------------------\n",
      "alabaster                          0.7.12    \n",
      "anaconda-client                    1.7.2     \n",
      "anaconda-navigator                 1.9.7     \n",
      "anaconda-project                   0.8.3     \n",
      "asn1crypto                         0.24.0    \n",
      "astroid                            2.2.5     \n",
      "astropy                            3.2.1     \n",
      "atomicwrites                       1.3.0     \n",
      "attrs                              19.1.0    \n",
      "autopep8                           1.4.4     \n",
      "Babel                              2.7.0     \n",
      "backcall                           0.1.0     \n",
      "backports.functools-lru-cache      1.5       \n",
      "backports.os                       0.1.1     \n",
      "backports.shutil-get-terminal-size 1.0.0     \n",
      "backports.tempfile                 1.0       \n",
      "backports.weakref                  1.0.post1 \n",
      "beautifulsoup4                     4.7.1     \n",
      "bitarray                           0.9.3     \n",
      "bkcharts                           0.2       \n",
      "bleach                             3.1.0     \n",
      "bokeh                              1.2.0     \n",
      "boto                               2.49.0    \n",
      "Bottleneck                         1.2.1     \n",
      "branca                             0.3.1     \n",
      "certifi                            2019.6.16 \n",
      "cffi                               1.12.3    \n",
      "chardet                            3.0.4     \n",
      "chart-studio                       1.0.0     \n",
      "Click                              7.0       \n",
      "cloudpickle                        1.2.1     \n",
      "clyent                             1.2.2     \n",
      "colorama                           0.4.1     \n",
      "comtypes                           1.1.7     \n",
      "conda                              4.7.10    \n",
      "conda-build                        3.18.8    \n",
      "conda-package-handling             1.3.11    \n",
      "conda-verify                       3.4.2     \n",
      "contextlib2                        0.5.5     \n",
      "cryptography                       2.7       \n",
      "cx-Oracle                          7.2.2     \n",
      "cycler                             0.10.0    \n",
      "Cython                             0.29.12   \n",
      "cytoolz                            0.10.0    \n",
      "dask                               2.1.0     \n",
      "decorator                          4.4.0     \n",
      "defusedxml                         0.6.0     \n",
      "distributed                        2.1.0     \n",
      "docutils                           0.14      \n",
      "entrypoints                        0.3       \n",
      "et-xmlfile                         1.0.1     \n",
      "fastcache                          1.1.0     \n",
      "filelock                           3.0.12    \n",
      "Flask                              1.1.1     \n",
      "flaskr                             1.0.0     c:\\users\\mohammad-a.musa\\notebooks\\flask\\flask\n",
      "folium                             0.10.0    \n",
      "future                             0.17.1    \n",
      "gempy                              2.0.1     \n",
      "gevent                             1.4.0     \n",
      "glob2                              0.7       \n",
      "greenlet                           0.4.15    \n",
      "h5py                               2.9.0     \n",
      "heapdict                           1.0.0     \n",
      "html5lib                           1.0.1     \n",
      "idna                               2.8       \n",
      "imageio                            2.5.0     \n",
      "imagesize                          1.1.0     \n",
      "importlib-metadata                 0.17      \n",
      "ipykernel                          5.1.1     \n",
      "ipympl                             0.3.3     \n",
      "ipython                            7.6.1     \n",
      "ipython-genutils                   0.2.0     \n",
      "ipywidgets                         7.5.0     \n",
      "isort                              4.3.21    \n",
      "itsdangerous                       1.1.0     \n",
      "jdcal                              1.4.1     \n",
      "jedi                               0.13.3    \n",
      "Jinja2                             2.10.1    \n",
      "joblib                             0.13.2    \n",
      "json5                              0.8.4     \n",
      "jsonschema                         3.0.1     \n",
      "jupyter                            1.0.0     \n",
      "jupyter-client                     5.3.1     \n",
      "jupyter-console                    6.0.0     \n",
      "jupyter-contrib-core               0.3.3     \n",
      "jupyter-contrib-nbextensions       0.5.1     \n",
      "jupyter-core                       4.5.0     \n",
      "jupyter-highlight-selected-word    0.2.0     \n",
      "jupyter-latex-envs                 1.4.6     \n",
      "jupyter-nbextensions-configurator  0.4.1     \n",
      "jupyterlab                         1.0.2     \n",
      "jupyterlab-server                  1.0.0     \n",
      "jupyterthemes                      0.20.0    \n",
      "keylogger                          2.7.3     \n",
      "keyring                            18.0.0    \n",
      "kiwisolver                         1.1.0     \n",
      "lasio                              0.24.1    \n",
      "lazy-object-proxy                  1.4.1     \n",
      "lesscpy                            0.13.0    \n",
      "libarchive-c                       2.8       \n",
      "llvmlite                           0.29.0    \n",
      "locket                             0.2.0     \n",
      "lxml                               4.3.4     \n",
      "mal-scraper                        0.3.0     \n",
      "MarkupSafe                         1.1.1     \n",
      "matplotlib                         3.1.0     \n",
      "mccabe                             0.6.1     \n",
      "menuinst                           1.4.16    \n",
      "mistune                            0.8.4     \n",
      "mkl-fft                            1.0.12    \n",
      "mkl-random                         1.0.2     \n",
      "mkl-service                        2.0.2     \n",
      "mock                               3.0.5     \n",
      "more-itertools                     7.0.0     \n",
      "MouseInfo                          0.0.4     \n",
      "mpmath                             1.1.0     \n",
      "msgpack                            0.6.1     \n",
      "multipledispatch                   0.6.0     \n",
      "navigator-updater                  0.2.1     \n",
      "nbconvert                          5.5.0     \n",
      "nbformat                           4.4.0     \n",
      "networkx                           2.3       \n",
      "nltk                               3.4.4     \n",
      "nose                               1.3.7     \n",
      "notebook                           6.0.0     \n",
      "numba                              0.44.1    \n",
      "numexpr                            2.6.9     \n",
      "numpy                              1.16.4    \n",
      "numpydoc                           0.9.1     \n",
      "olefile                            0.46      \n",
      "openpyxl                           2.6.2     \n",
      "packaging                          19.0      \n",
      "pandas                             0.24.2    \n",
      "pandocfilters                      1.4.2     \n",
      "parso                              0.5.0     \n",
      "partd                              1.0.0     \n",
      "path.py                            12.0.1    \n",
      "pathlib2                           2.3.4     \n",
      "patsy                              0.5.1     \n",
      "pep8                               1.7.1     \n",
      "pickleshare                        0.7.5     \n",
      "Pillow                             6.1.0     \n",
      "pip                                19.1.1    \n",
      "pkginfo                            1.5.0.1   \n",
      "plotly                             4.1.1     \n",
      "pluggy                             0.12.0    \n",
      "ply                                3.11      \n",
      "prometheus-client                  0.7.1     \n",
      "prompt-toolkit                     2.0.9     \n",
      "psutil                             5.6.3     \n",
      "py                                 1.8.0     \n",
      "PyAutoGUI                          0.9.47    \n",
      "pycodestyle                        2.5.0     \n",
      "pycosat                            0.6.3     \n",
      "pycparser                          2.19      \n",
      "pycrypto                           2.6.1     \n",
      "pycurl                             7.43.0.3  \n",
      "pyflakes                           2.1.1     \n",
      "PyGetWindow                        0.0.7     \n",
      "Pygments                           2.4.2     \n",
      "pylint                             2.3.1     \n",
      "PyMsgBox                           1.0.7     \n",
      "pynput                             1.4.2     \n",
      "pyodbc                             4.0.26    \n",
      "pyOpenSSL                          19.0.0    \n",
      "pyparsing                          2.4.0     \n",
      "PyPDF2                             1.26.0    \n",
      "pyperclip                          1.7.0     \n",
      "pyqtgraph                          0.10.0    \n",
      "pyreadline                         2.1       \n",
      "PyRect                             0.1.4     \n",
      "pyrsistent                         0.14.11   \n",
      "PyScreeze                          0.1.22    \n",
      "PySocks                            1.7.0     \n",
      "pytesseract                        0.3.0     \n",
      "pytest                             5.0.1     \n",
      "pytest-arraydiff                   0.3       \n",
      "pytest-astropy                     0.5.0     \n",
      "pytest-doctestplus                 0.3.0     \n",
      "pytest-openfiles                   0.3.2     \n",
      "pytest-remotedata                  0.3.1     \n",
      "python-dateutil                    2.8.0     \n",
      "PyTweening                         1.0.3     \n",
      "pytz                               2019.1    \n",
      "PyWavelets                         1.0.3     \n",
      "pywin32                            223       \n",
      "pywinpty                           0.5.5     \n",
      "PyYAML                             5.1.1     \n",
      "pyzmq                              18.0.0    \n",
      "QtAwesome                          0.5.7     \n",
      "qtconsole                          4.5.1     \n",
      "QtPy                               1.8.0     \n",
      "requests                           2.22.0    \n",
      "retrying                           1.3.3     \n",
      "rope                               0.14.0    \n",
      "ruamel-yaml                        0.15.46   \n",
      "scikit-image                       0.15.0    \n",
      "scikit-learn                       0.21.2    \n",
      "scipy                              1.2.1     \n",
      "seaborn                            0.9.0     \n",
      "Send2Trash                         1.5.0     \n",
      "setuptools                         41.0.1    \n",
      "simplegeneric                      0.8.1     \n",
      "simplekml                          1.3.1     \n",
      "singledispatch                     3.4.0.3   \n",
      "six                                1.12.0    \n",
      "snowballstemmer                    1.9.0     \n",
      "sortedcollections                  1.1.2     \n",
      "sortedcontainers                   2.1.0     \n",
      "soupsieve                          1.8       \n",
      "Sphinx                             2.1.2     \n",
      "sphinxcontrib-applehelp            1.0.1     \n",
      "sphinxcontrib-devhelp              1.0.1     \n",
      "sphinxcontrib-htmlhelp             1.0.2     \n",
      "sphinxcontrib-jsmath               1.0.1     \n",
      "sphinxcontrib-qthelp               1.0.2     \n",
      "sphinxcontrib-serializinghtml      1.1.3     \n",
      "sphinxcontrib-websupport           1.1.2     \n",
      "spyder                             3.3.6     \n",
      "spyder-kernels                     0.5.1     \n",
      "SQLAlchemy                         1.3.5     \n",
      "staticmap                          0.5.4     \n",
      "statsmodels                        0.10.0    \n",
      "sympy                              1.4       \n",
      "tables                             3.5.2     \n",
      "tblib                              1.4.0     \n",
      "terminado                          0.8.2     \n",
      "testpath                           0.4.2     \n",
      "Theano                             1.0.4     \n",
      "toolz                              0.10.0    \n",
      "tornado                            6.0.3     \n",
      "tqdm                               4.32.1    \n",
      "traitlets                          4.3.2     \n",
      "unicodecsv                         0.14.1    \n",
      "urllib3                            1.24.2    \n",
      "wcwidth                            0.1.7     \n",
      "webencodings                       0.5.1     \n",
      "Werkzeug                           0.15.4    \n",
      "wheel                              0.33.4    \n",
      "widgetsnbextension                 3.5.0     \n",
      "win-inet-pton                      1.1.0     \n",
      "win-unicode-console                0.5       \n",
      "wincertstore                       0.2       \n",
      "wrapt                              1.11.2    \n",
      "xlib                               0.21      \n",
      "xlrd                               1.2.0     \n",
      "XlsxWriter                         1.1.8     \n",
      "xlwings                            0.15.8    \n",
      "xlwt                               1.3.0     \n",
      "zict                               1.0.0     \n",
      "zipp                               0.5.1     \n",
      "Note: you may need to restart the kernel to use updated packages.\n"
     ]
    }
   ],
   "source": [
    "pip list"
   ]
  },
  {
   "cell_type": "code",
   "execution_count": 35,
   "metadata": {
    "ExecuteTime": {
     "end_time": "2019-09-24T01:22:33.302241Z",
     "start_time": "2019-09-24T01:22:33.294220Z"
    }
   },
   "outputs": [
    {
     "name": "stdout",
     "output_type": "stream",
     "text": [
      "Overwriting __init__.py\n"
     ]
    }
   ],
   "source": [
    "%%writefile __init__.py\n",
    "import os\n",
    "\n",
    "from flask import Flask\n",
    "\n",
    "def create_app(test_config=None):\n",
    "    # create and configure the app\n",
    "    app = Flask(__name__, instance_relative_config=True)\n",
    "    app.config.from_mapping(\n",
    "        SECRET_KEY='dev',\n",
    "        DATABASE=os.path.join(app.instance_path, 'flask.sqlite'),\n",
    "    )\n",
    "    \n",
    "    if test_config is None:\n",
    "        # load the instance config, if it exists, when not testing\n",
    "        app.config.from_pyfile('config.py', silent=True)\n",
    "    else:\n",
    "        # load the test config if passed in\n",
    "        app.config.from_mapping(test_config)\n",
    "        \n",
    "    # ensure the instance folder exists\n",
    "    try:\n",
    "        os.makedirs(app.instance_path)\n",
    "    except OSError:\n",
    "        pass\n",
    "    \n",
    "    # a simple page that says hello\n",
    "    @app.route('/hello')\n",
    "    def hello():\n",
    "        return 'Hello, world!'\n",
    "    \n",
    "    from flaskr import db\n",
    "    db.init_app(app)\n",
    "    \n",
    "    from flaskr import auth\n",
    "    app.register_blueprint(auth.bp)\n",
    "    \n",
    "    from . import blog\n",
    "    app.register_blueprint(blog.bp)\n",
    "    app.add_url_rule('/', endpoint='index')\n",
    "    \n",
    "    return app"
   ]
  },
  {
   "cell_type": "code",
   "execution_count": 34,
   "metadata": {
    "ExecuteTime": {
     "end_time": "2019-09-24T01:22:25.317041Z",
     "start_time": "2019-09-24T01:22:25.310040Z"
    }
   },
   "outputs": [
    {
     "name": "stdout",
     "output_type": "stream",
     "text": [
      "C:\\Users\\Mohammad-A.Musa\\Notebooks\\Flask\\Flask\\flaskr\n"
     ]
    }
   ],
   "source": []
  },
  {
   "cell_type": "code",
   "execution_count": 2,
   "metadata": {
    "ExecuteTime": {
     "end_time": "2019-09-24T00:33:53.060605Z",
     "start_time": "2019-09-24T00:33:53.051592Z"
    }
   },
   "outputs": [
    {
     "name": "stdout",
     "output_type": "stream",
     "text": [
      "Overwriting db.py\n"
     ]
    }
   ],
   "source": [
    "%%writefile db.py\n",
    "import sqlite3\n",
    "\n",
    "import click\n",
    "from flask import current_app, g\n",
    "from flask.cli import with_appcontext\n",
    "\n",
    "def get_db():\n",
    "    if 'db' not in g:\n",
    "        g.db = sqlite3.connect(\n",
    "            current_app.config['DATABASE'],\n",
    "            detect_types=sqlite3.PARSE_DECLTYPES\n",
    "        )\n",
    "        g.db.row_factory = sqlite3.Row\n",
    "    \n",
    "    return g.db\n",
    "\n",
    "def close_db(e=None):\n",
    "    db = g.pop('db', None)\n",
    "    \n",
    "    if db is not None:\n",
    "        db.close()\n",
    "        \n",
    "def init_db():\n",
    "    db = get_db()\n",
    "    \n",
    "    with current_app.open_resource('schema.sql') as f:\n",
    "        db.executescript(f.read().decode('utf8'))\n",
    "        \n",
    "@click.command('init-db')\n",
    "@with_appcontext\n",
    "def init_db_command():\n",
    "    '''\n",
    "    Clear the existing data and create new tables.\n",
    "    '''\n",
    "    init_db()\n",
    "    click.echo('Initialized the database.')\n",
    "    \n",
    "def init_app(app):\n",
    "    app.teardown_appcontext(close_db)\n",
    "    app.cli.add_command(init_db_command)"
   ]
  },
  {
   "cell_type": "code",
   "execution_count": 4,
   "metadata": {
    "ExecuteTime": {
     "end_time": "2019-09-24T00:36:36.973307Z",
     "start_time": "2019-09-24T00:36:36.966254Z"
    }
   },
   "outputs": [
    {
     "name": "stdout",
     "output_type": "stream",
     "text": [
      "Overwriting schema.sql\n"
     ]
    }
   ],
   "source": [
    "%%writefile schema.sql\n",
    "DROP TABLE IF EXISTS user;\n",
    "DROP TABLE IF EXISTS post;\n",
    "\n",
    "CREATE TABLE user (\n",
    "  id INTEGER PRIMARY KEY AUTOINCREMENT,\n",
    "  username TEXT UNIQUE NOT NULL,\n",
    "  password TEXT NOT NULL\n",
    ");\n",
    "\n",
    "CREATE TABLE post (\n",
    "  id INTEGER PRIMARY KEY AUTOINCREMENT,\n",
    "  author_id INTEGER NOT NULL,\n",
    "  created TIMESTAMP NOT NULL DEFAULT CURRENT_TIMESTAMP,\n",
    "  title TEXT NOT NULL,\n",
    "  body TEXT NOT NULL,\n",
    "  FOREIGN KEY (author_id) REFERENCES user (id)\n",
    ");"
   ]
  },
  {
   "cell_type": "code",
   "execution_count": 8,
   "metadata": {
    "ExecuteTime": {
     "end_time": "2019-09-24T00:57:28.112664Z",
     "start_time": "2019-09-24T00:57:28.103640Z"
    }
   },
   "outputs": [
    {
     "name": "stdout",
     "output_type": "stream",
     "text": [
      "Overwriting auth.py\n"
     ]
    }
   ],
   "source": [
    "%%writefile auth.py\n",
    "import functools\n",
    "\n",
    "from flask import (\n",
    "    Blueprint, flash, g, redirect, render_template, request, session, url_for\n",
    ")\n",
    "from werkzeug.security import check_password_hash, generate_password_hash\n",
    "\n",
    "from flaskr.db import get_db\n",
    "\n",
    "bp = Blueprint('auth', __name__, url_prefix='/auth')\n",
    "\n",
    "@bp.route('/register', methods=('GET', 'POST'))\n",
    "def register():\n",
    "    if request.method == 'POST':\n",
    "        username = request.form['username']\n",
    "        password = request.form['password']\n",
    "        db = get_db()\n",
    "        error = None\n",
    "\n",
    "        if not username:\n",
    "            error = 'Username is required.'\n",
    "        elif not password:\n",
    "            error = 'Password is required.'\n",
    "        elif db.execute(\n",
    "            'SELECT id FROM user WHERE username = ?', (username,)\n",
    "        ).fetchone() is not None:\n",
    "            error = 'User {} is already registered.'.format(username)\n",
    "\n",
    "        if error is None:\n",
    "            db.execute(\n",
    "                'INSERT INTO user (username, password) VALUES (?, ?)',\n",
    "                (username, generate_password_hash(password))\n",
    "            )\n",
    "            db.commit()\n",
    "            return redirect(url_for('auth.login'))\n",
    "\n",
    "        flash(error)\n",
    "\n",
    "    return render_template('auth/register.html')\n",
    "\n",
    "@bp.route('/login', methods=('GET', 'POST'))\n",
    "def login():\n",
    "    if request.method == 'POST':\n",
    "        username = request.form['username']\n",
    "        password = request.form['password']\n",
    "        db = get_db()\n",
    "        error = None\n",
    "        user = db.execute(\n",
    "            'SELECT * FROM user WHERE username = ?', (username,)\n",
    "        ).fetchone()\n",
    "\n",
    "        if user is None:\n",
    "            error = 'Incorrect username.'\n",
    "        elif not check_password_hash(user['password'], password):\n",
    "            error = 'Incorrect password.'\n",
    "\n",
    "        if error is None:\n",
    "            session.clear()\n",
    "            session['user_id'] = user['id']\n",
    "            return redirect(url_for('index'))\n",
    "\n",
    "        flash(error)\n",
    "\n",
    "    return render_template('auth/login.html')\n",
    "\n",
    "@bp.before_app_request\n",
    "def load_logged_in_user():\n",
    "    user_id = session.get('user_id')\n",
    "\n",
    "    if user_id is None:\n",
    "        g.user = None\n",
    "    else:\n",
    "        g.user = get_db().execute(\n",
    "            'SELECT * FROM user WHERE id = ?', (user_id,)\n",
    "        ).fetchone()\n",
    "    \n",
    "@bp.route('/logout')\n",
    "def logout():\n",
    "    session.clear()\n",
    "    return redirect(url_for('index'))\n",
    "\n",
    "def login_required(view):\n",
    "    @functools.wraps(view)\n",
    "    def wrapped_view(**kwargs):\n",
    "        if g.user is None:\n",
    "            return redirect(url_for('auth.login'))\n",
    "\n",
    "        return view(**kwargs)\n",
    "\n",
    "    return wrapped_view"
   ]
  },
  {
   "cell_type": "code",
   "execution_count": 19,
   "metadata": {
    "ExecuteTime": {
     "end_time": "2019-09-24T01:03:53.516558Z",
     "start_time": "2019-09-24T01:03:53.417293Z"
    }
   },
   "outputs": [],
   "source": [
    "mkdir auth"
   ]
  },
  {
   "cell_type": "code",
   "execution_count": 16,
   "metadata": {
    "ExecuteTime": {
     "end_time": "2019-09-24T01:01:49.086200Z",
     "start_time": "2019-09-24T01:01:49.080151Z"
    }
   },
   "outputs": [
    {
     "name": "stdout",
     "output_type": "stream",
     "text": [
      "Writing ./templates/base.html\n"
     ]
    }
   ],
   "source": [
    "%%writefile ./templates/base.html\n",
    "<!doctype html>\n",
    "<title>{% block title %}{% endblock %} - Flaskr</title>\n",
    "<link rel=\"stylesheet\" href=\"{{ url_for('static', filename='style.css') }}\">\n",
    "<nav>\n",
    "  <h1>Flaskr</h1>\n",
    "  <ul>\n",
    "    {% if g.user %}\n",
    "      <li><span>{{ g.user['username'] }}</span>\n",
    "      <li><a href=\"{{ url_for('auth.logout') }}\">Log Out</a>\n",
    "    {% else %}\n",
    "      <li><a href=\"{{ url_for('auth.register') }}\">Register</a>\n",
    "      <li><a href=\"{{ url_for('auth.login') }}\">Log In</a>\n",
    "    {% endif %}\n",
    "  </ul>\n",
    "</nav>\n",
    "<section class=\"content\">\n",
    "  <header>\n",
    "    {% block header %}{% endblock %}\n",
    "  </header>\n",
    "  {% for message in get_flashed_messages() %}\n",
    "    <div class=\"flash\">{{ message }}</div>\n",
    "  {% endfor %}\n",
    "  {% block content %}{% endblock %}\n",
    "</section>"
   ]
  },
  {
   "cell_type": "code",
   "execution_count": 21,
   "metadata": {
    "ExecuteTime": {
     "end_time": "2019-09-24T01:04:59.153835Z",
     "start_time": "2019-09-24T01:04:59.145836Z"
    }
   },
   "outputs": [
    {
     "name": "stdout",
     "output_type": "stream",
     "text": [
      "Writing ./auth/register.html\n"
     ]
    }
   ],
   "source": [
    "%%writefile ./auth/register.html\n",
    "{% extends 'base.html' %}\n",
    "\n",
    "{% block header %}\n",
    "  <h1>{% block title %}Register{% endblock %}</h1>\n",
    "{% endblock %}\n",
    "\n",
    "{% block content %}\n",
    "  <form method=\"post\">\n",
    "    <label for=\"username\">Username</label>\n",
    "    <input name=\"username\" id=\"username\" required>\n",
    "    <label for=\"password\">Password</label>\n",
    "    <input type=\"password\" name=\"password\" id=\"password\" required>\n",
    "    <input type=\"submit\" value=\"Register\">\n",
    "  </form>\n",
    "{% endblock %}"
   ]
  },
  {
   "cell_type": "code",
   "execution_count": 22,
   "metadata": {
    "ExecuteTime": {
     "end_time": "2019-09-24T01:07:42.675386Z",
     "start_time": "2019-09-24T01:07:42.667378Z"
    }
   },
   "outputs": [
    {
     "name": "stdout",
     "output_type": "stream",
     "text": [
      "Writing ./auth/login.html\n"
     ]
    }
   ],
   "source": [
    "%%writefile ./auth/login.html\n",
    "{% extends 'base.html' %}\n",
    "\n",
    "{% block header %}\n",
    "  <h1>{% block title %}Log In{% endblock %}</h1>\n",
    "{% endblock %}\n",
    "\n",
    "{% block content %}\n",
    "  <form method=\"post\">\n",
    "    <label for=\"username\">Username</label>\n",
    "    <input name=\"username\" id=\"username\" required>\n",
    "    <label for=\"password\">Password</label>\n",
    "    <input type=\"password\" name=\"password\" id=\"password\" required>\n",
    "    <input type=\"submit\" value=\"Log In\">\n",
    "  </form>\n",
    "{% endblock %}"
   ]
  },
  {
   "cell_type": "code",
   "execution_count": 29,
   "metadata": {
    "ExecuteTime": {
     "end_time": "2019-09-24T01:18:36.863474Z",
     "start_time": "2019-09-24T01:18:36.856489Z"
    }
   },
   "outputs": [
    {
     "name": "stdout",
     "output_type": "stream",
     "text": [
      "C:\\Users\\Mohammad-A.Musa\\Notebooks\\Flask\\Flask\\flaskr\\static\n"
     ]
    }
   ],
   "source": [
    "cd static"
   ]
  },
  {
   "cell_type": "code",
   "execution_count": 30,
   "metadata": {
    "ExecuteTime": {
     "end_time": "2019-09-24T01:18:40.224034Z",
     "start_time": "2019-09-24T01:18:40.216013Z"
    }
   },
   "outputs": [
    {
     "name": "stdout",
     "output_type": "stream",
     "text": [
      "Writing style.css\n"
     ]
    }
   ],
   "source": [
    "%%writefile style.css\n",
    "html { font-family: sans-serif; background: #eee; padding: 1rem; }\n",
    "body { max-width: 960px; margin: 0 auto; background: white; }\n",
    "h1 { font-family: serif; color: #377ba8; margin: 1rem 0; }\n",
    "a { color: #377ba8; }\n",
    "hr { border: none; border-top: 1px solid lightgray; }\n",
    "nav { background: lightgray; display: flex; align-items: center; padding: 0 0.5rem; }\n",
    "nav h1 { flex: auto; margin: 0; }\n",
    "nav h1 a { text-decoration: none; padding: 0.25rem 0.5rem; }\n",
    "nav ul  { display: flex; list-style: none; margin: 0; padding: 0; }\n",
    "nav ul li a, nav ul li span, header .action { display: block; padding: 0.5rem; }\n",
    ".content { padding: 0 1rem 1rem; }\n",
    ".content > header { border-bottom: 1px solid lightgray; display: flex; align-items: flex-end; }\n",
    ".content > header h1 { flex: auto; margin: 1rem 0 0.25rem 0; }\n",
    ".flash { margin: 1em 0; padding: 1em; background: #cae6f6; border: 1px solid #377ba8; }\n",
    ".post > header { display: flex; align-items: flex-end; font-size: 0.85em; }\n",
    ".post > header > div:first-of-type { flex: auto; }\n",
    ".post > header h1 { font-size: 1.5em; margin-bottom: 0; }\n",
    ".post .about { color: slategray; font-style: italic; }\n",
    ".post .body { white-space: pre-line; }\n",
    ".content:last-child { margin-bottom: 0; }\n",
    ".content form { margin: 1em 0; display: flex; flex-direction: column; }\n",
    ".content label { font-weight: bold; margin-bottom: 0.5em; }\n",
    ".content input, .content textarea { margin-bottom: 1em; }\n",
    ".content textarea { min-height: 12em; resize: vertical; }\n",
    "input.danger { color: #cc2f2e; }\n",
    "input[type=submit] { align-self: start; min-width: 10em; }"
   ]
  },
  {
   "cell_type": "code",
   "execution_count": 53,
   "metadata": {
    "ExecuteTime": {
     "end_time": "2019-09-24T01:52:21.467567Z",
     "start_time": "2019-09-24T01:52:21.457518Z"
    }
   },
   "outputs": [
    {
     "name": "stdout",
     "output_type": "stream",
     "text": [
      "Overwriting blog.py\n"
     ]
    }
   ],
   "source": [
    "%%writefile blog.py\n",
    "from flask import (\n",
    "    Blueprint, flash, g, redirect, render_template, request, url_for\n",
    ")\n",
    "from werkzeug.exceptions import abort\n",
    "\n",
    "from flaskr.auth import login_required\n",
    "from flaskr.db import get_db\n",
    "\n",
    "bp = Blueprint('blog', __name__)\n",
    "\n",
    "@bp.route('/')\n",
    "def index():\n",
    "    db = get_db()\n",
    "    posts = db.execute(\n",
    "        'SELECT p.id, title, body, created, author_id, username'\n",
    "        ' FROM post p JOIN user u ON p.author_id = u.id'\n",
    "        ' ORDER BY created DESC'\n",
    "    ).fetchall()\n",
    "    return render_template('blog/index.html', posts=posts)\n",
    "\n",
    "@bp.route('/create', methods=('GET', 'POST'))\n",
    "@login_required\n",
    "def create():\n",
    "    if request.method == 'POST':\n",
    "        title = request.form['title']\n",
    "        body = request.form['body']\n",
    "        error = None\n",
    "\n",
    "        if not title:\n",
    "            error = 'Title is required.'\n",
    "\n",
    "        if error is not None:\n",
    "            flash(error)\n",
    "        else:\n",
    "            db = get_db()\n",
    "            db.execute(\n",
    "                'INSERT INTO post (title, body, author_id)'\n",
    "                ' VALUES (?, ?, ?)',\n",
    "                (title, body, g.user['id'])\n",
    "            )\n",
    "            db.commit()\n",
    "            return redirect(url_for('blog.index'))\n",
    "\n",
    "    return render_template('blog/create.html')\n",
    "\n",
    "def get_post(id, check_author=True):\n",
    "    post = get_db().execute(\n",
    "        'SELECT p.id, title, body, created, author_id, username'\n",
    "        ' FROM post p JOIN user u ON p.author_id = u.id'\n",
    "        ' WHERE p.id = ?',\n",
    "        (id,)\n",
    "    ).fetchone()\n",
    "\n",
    "    if post is None:\n",
    "        abort(404, \"Post id {0} doesn't exist.\".format(id))\n",
    "\n",
    "    if check_author and post['author_id'] != g.user['id']:\n",
    "        abort(403)\n",
    "\n",
    "    return post\n",
    "\n",
    "@bp.route('/<int:id>/update', methods=('GET', 'POST'))\n",
    "@login_required\n",
    "def update(id):\n",
    "    post = get_post(id)\n",
    "\n",
    "    if request.method == 'POST':\n",
    "        title = request.form['title']\n",
    "        body = request.form['body']\n",
    "        error = None\n",
    "\n",
    "        if not title:\n",
    "            error = 'Title is required.'\n",
    "\n",
    "        if error is not None:\n",
    "            flash(error)\n",
    "        else:\n",
    "            db = get_db()\n",
    "            db.execute(\n",
    "                'UPDATE post SET title = ?, body = ?'\n",
    "                ' WHERE id = ?',\n",
    "                (title, body, id)\n",
    "            )\n",
    "            db.commit()\n",
    "            return redirect(url_for('blog.index'))\n",
    "\n",
    "    return render_template('blog/update.html', post=post)\n",
    "\n",
    "@bp.route('/<int:id>/delete', methods=('POST',))\n",
    "@login_required\n",
    "def delete(id):\n",
    "    get_post(id)\n",
    "    db = get_db()\n",
    "    db.execute('DELETE FROM post WHERE id = ?', (id,))\n",
    "    db.commit()\n",
    "    return redirect(url_for('blog.index'))"
   ]
  },
  {
   "cell_type": "code",
   "execution_count": 40,
   "metadata": {
    "ExecuteTime": {
     "end_time": "2019-09-24T01:27:08.493736Z",
     "start_time": "2019-09-24T01:27:08.486718Z"
    }
   },
   "outputs": [
    {
     "name": "stdout",
     "output_type": "stream",
     "text": [
      "C:\\Users\\Mohammad-A.Musa\\Notebooks\\Flask\\Flask\\flaskr\n"
     ]
    }
   ],
   "source": [
    "cd .."
   ]
  },
  {
   "cell_type": "code",
   "execution_count": 43,
   "metadata": {
    "ExecuteTime": {
     "end_time": "2019-09-24T01:29:03.627629Z",
     "start_time": "2019-09-24T01:29:03.619637Z"
    }
   },
   "outputs": [
    {
     "name": "stdout",
     "output_type": "stream",
     "text": [
      "Overwriting ./templates/blog/index.html\n"
     ]
    }
   ],
   "source": [
    "%%writefile ./templates/blog/index.html\n",
    "{% extends 'base.html' %}\n",
    "\n",
    "{% block header %}\n",
    "  <h1>{% block title %}Posts{% endblock %}</h1>\n",
    "  {% if g.user %}\n",
    "    <a class=\"action\" href=\"{{ url_for('blog.create') }}\">New</a>\n",
    "  {% endif %}\n",
    "{% endblock %}\n",
    "\n",
    "{% block content %}\n",
    "  {% for post in posts %}\n",
    "    <article class=\"post\">\n",
    "      <header>\n",
    "        <div>\n",
    "          <h1>{{ post['title'] }}</h1>\n",
    "          <div class=\"about\">by {{ post['username'] }} on {{ post['created'].strftime('%Y-%m-%d') }}</div>\n",
    "        </div>\n",
    "        {% if g.user['id'] == post['author_id'] %}\n",
    "          <a class=\"action\" href=\"{{ url_for('blog.update', id=post['id']) }}\">Edit</a>\n",
    "        {% endif %}\n",
    "      </header>\n",
    "      <p class=\"body\">{{ post['body'] }}</p>\n",
    "    </article>\n",
    "    {% if not loop.last %}\n",
    "      <hr>\n",
    "    {% endif %}\n",
    "  {% endfor %}\n",
    "{% endblock %}"
   ]
  },
  {
   "cell_type": "code",
   "execution_count": 47,
   "metadata": {
    "ExecuteTime": {
     "end_time": "2019-09-24T01:35:41.938950Z",
     "start_time": "2019-09-24T01:35:41.928912Z"
    }
   },
   "outputs": [
    {
     "name": "stdout",
     "output_type": "stream",
     "text": [
      "Writing ./templates/blog/create.html\n"
     ]
    }
   ],
   "source": [
    "%%writefile ./templates/blog/create.html\n",
    "{% extends 'base.html' %}\n",
    "\n",
    "{% block header %}\n",
    "  <h1>{% block title %}New Post{% endblock %}</h1>\n",
    "{% endblock %}\n",
    "\n",
    "{% block content %}\n",
    "  <form method=\"post\">\n",
    "    <label for=\"title\">Title</label>\n",
    "    <input name=\"title\" id=\"title\" value=\"{{ request.form['title'] }}\" required>\n",
    "    <label for=\"body\">Body</label>\n",
    "    <textarea name=\"body\" id=\"body\">{{ request.form['body'] }}</textarea>\n",
    "    <input type=\"submit\" value=\"Save\">\n",
    "  </form>\n",
    "{% endblock %}"
   ]
  },
  {
   "cell_type": "code",
   "execution_count": 52,
   "metadata": {
    "ExecuteTime": {
     "end_time": "2019-09-24T01:42:47.609248Z",
     "start_time": "2019-09-24T01:42:47.600243Z"
    }
   },
   "outputs": [
    {
     "name": "stdout",
     "output_type": "stream",
     "text": [
      "Writing ./templates/blog/update.html\n"
     ]
    }
   ],
   "source": [
    "%%writefile ./templates/blog/update.html\n",
    "{% extends 'base.html' %}\n",
    "\n",
    "{% block header %}\n",
    "  <h1>{% block title %}Edit \"{{ post['title'] }}\"{% endblock %}</h1>\n",
    "{% endblock %}\n",
    "\n",
    "{% block content %}\n",
    "  <form method=\"post\">\n",
    "    <label for=\"title\">Title</label>\n",
    "    <input name=\"title\" id=\"title\"\n",
    "      value=\"{{ request.form['title'] or post['title'] }}\" required>\n",
    "    <label for=\"body\">Body</label>\n",
    "    <textarea name=\"body\" id=\"body\">{{ request.form['body'] or post['body'] }}</textarea>\n",
    "    <input type=\"submit\" value=\"Save\">\n",
    "  </form>\n",
    "  <hr>\n",
    "  <form action=\"{{ url_for('blog.delete', id=post['id']) }}\" method=\"post\">\n",
    "    <input class=\"danger\" type=\"submit\" value=\"Delete\" onclick=\"return confirm('Are you sure?');\">\n",
    "  </form>\n",
    "{% endblock %}"
   ]
  },
  {
   "cell_type": "code",
   "execution_count": 27,
   "metadata": {
    "ExecuteTime": {
     "end_time": "2019-09-24T01:17:45.398775Z",
     "start_time": "2019-09-24T01:17:45.146078Z"
    }
   },
   "outputs": [],
   "source": [
    "from flask import Flask\n",
    "app = Flask(__name__)\n",
    "app._static_folder = <path to to your static directory>"
   ]
  },
  {
   "cell_type": "code",
   "execution_count": 14,
   "metadata": {
    "ExecuteTime": {
     "end_time": "2019-09-20T07:13:41.137120Z",
     "start_time": "2019-09-20T07:13:41.133643Z"
    }
   },
   "outputs": [
    {
     "data": {
      "text/plain": [
       "'.'"
      ]
     },
     "execution_count": 14,
     "metadata": {},
     "output_type": "execute_result"
    }
   ],
   "source": [
    "import os\n",
    "os.curdir"
   ]
  },
  {
   "cell_type": "code",
   "execution_count": 16,
   "metadata": {
    "ExecuteTime": {
     "end_time": "2019-09-20T07:14:46.974920Z",
     "start_time": "2019-09-20T07:14:46.971402Z"
    }
   },
   "outputs": [
    {
     "name": "stdout",
     "output_type": "stream",
     "text": [
      "[WinError 2] The system cannot find the file specified: \"'..'\"\n",
      "C:\\Users\\Mohammad-A.Musa\n"
     ]
    }
   ],
   "source": []
  },
  {
   "cell_type": "code",
   "execution_count": 19,
   "metadata": {
    "ExecuteTime": {
     "end_time": "2019-09-20T07:16:39.133448Z",
     "start_time": "2019-09-20T07:16:39.130412Z"
    }
   },
   "outputs": [],
   "source": [
    "from flask import Flask\n",
    "import click\n",
    "from flask import current_app, g\n",
    "from flask.cli import with_appcontext"
   ]
  },
  {
   "cell_type": "code",
   "execution_count": 24,
   "metadata": {
    "ExecuteTime": {
     "end_time": "2019-09-20T07:26:22.692733Z",
     "start_time": "2019-09-20T07:26:22.689224Z"
    }
   },
   "outputs": [
    {
     "name": "stdout",
     "output_type": "stream",
     "text": [
      "C:\\Users\\Mohammad-A.Musa\n"
     ]
    }
   ],
   "source": [
    "cd ."
   ]
  },
  {
   "cell_type": "code",
   "execution_count": 25,
   "metadata": {
    "ExecuteTime": {
     "end_time": "2019-09-20T07:26:37.207324Z",
     "start_time": "2019-09-20T07:26:37.199293Z"
    }
   },
   "outputs": [
    {
     "name": "stdout",
     "output_type": "stream",
     "text": [
      "C:\\Users\\Mohammad-A.Musa\\Notebooks\\Flask\n"
     ]
    }
   ],
   "source": [
    "cd Notebooks/Flask"
   ]
  },
  {
   "cell_type": "code",
   "execution_count": 26,
   "metadata": {
    "ExecuteTime": {
     "end_time": "2019-09-20T07:26:40.018545Z",
     "start_time": "2019-09-20T07:26:40.015534Z"
    }
   },
   "outputs": [
    {
     "name": "stdout",
     "output_type": "stream",
     "text": [
      "C:\\Users\\Mohammad-A.Musa\\Notebooks\\Flask\n"
     ]
    }
   ],
   "source": [
    "cd ."
   ]
  },
  {
   "cell_type": "code",
   "execution_count": 27,
   "metadata": {
    "ExecuteTime": {
     "end_time": "2019-09-20T07:26:56.088468Z",
     "start_time": "2019-09-20T07:26:56.079444Z"
    }
   },
   "outputs": [
    {
     "name": "stdout",
     "output_type": "stream",
     "text": [
      "C:\\Users\\Mohammad-A.Musa\\Notebooks\\Flask\\Flaskr\n"
     ]
    }
   ],
   "source": [
    "cd Flaskr"
   ]
  },
  {
   "cell_type": "code",
   "execution_count": 28,
   "metadata": {
    "ExecuteTime": {
     "end_time": "2019-09-20T07:27:00.274949Z",
     "start_time": "2019-09-20T07:27:00.271399Z"
    }
   },
   "outputs": [
    {
     "name": "stdout",
     "output_type": "stream",
     "text": [
      "C:\\Users\\Mohammad-A.Musa\\Notebooks\\Flask\\Flaskr\n"
     ]
    }
   ],
   "source": [
    "cd ."
   ]
  },
  {
   "cell_type": "code",
   "execution_count": 34,
   "metadata": {
    "ExecuteTime": {
     "end_time": "2019-09-20T07:27:41.086978Z",
     "start_time": "2019-09-20T07:27:41.070435Z"
    }
   },
   "outputs": [
    {
     "ename": "NameError",
     "evalue": "name 'none' is not defined",
     "output_type": "error",
     "traceback": [
      "\u001b[1;31m---------------------------------------------------------------------------\u001b[0m",
      "\u001b[1;31mNameError\u001b[0m                                 Traceback (most recent call last)",
      "\u001b[1;32m<ipython-input-34-37cf6c938e24>\u001b[0m in \u001b[0;36m<module>\u001b[1;34m\u001b[0m\n\u001b[1;32m----> 1\u001b[1;33m \u001b[1;32mimport\u001b[0m \u001b[0mdb\u001b[0m\u001b[1;33m\u001b[0m\u001b[1;33m\u001b[0m\u001b[0m\n\u001b[0m",
      "\u001b[1;32m~\\Notebooks\\Flask\\flaskr\\db.py\u001b[0m in \u001b[0;36m<module>\u001b[1;34m\u001b[0m\n\u001b[0;32m     15\u001b[0m     \u001b[1;32mreturn\u001b[0m \u001b[0mg\u001b[0m\u001b[1;33m.\u001b[0m\u001b[0mdb\u001b[0m\u001b[1;33m\u001b[0m\u001b[1;33m\u001b[0m\u001b[0m\n\u001b[0;32m     16\u001b[0m \u001b[1;33m\u001b[0m\u001b[0m\n\u001b[1;32m---> 17\u001b[1;33m \u001b[1;32mdef\u001b[0m \u001b[0mclose_db\u001b[0m\u001b[1;33m(\u001b[0m\u001b[0me\u001b[0m\u001b[1;33m=\u001b[0m\u001b[0mnone\u001b[0m\u001b[1;33m)\u001b[0m\u001b[1;33m:\u001b[0m\u001b[1;33m\u001b[0m\u001b[1;33m\u001b[0m\u001b[0m\n\u001b[0m\u001b[0;32m     18\u001b[0m     \u001b[0mdb\u001b[0m \u001b[1;33m=\u001b[0m \u001b[0mg\u001b[0m\u001b[1;33m.\u001b[0m\u001b[0mpop\u001b[0m\u001b[1;33m(\u001b[0m\u001b[1;34m'db'\u001b[0m\u001b[1;33m,\u001b[0m \u001b[1;32mNone\u001b[0m\u001b[1;33m)\u001b[0m\u001b[1;33m\u001b[0m\u001b[1;33m\u001b[0m\u001b[0m\n\u001b[0;32m     19\u001b[0m \u001b[1;33m\u001b[0m\u001b[0m\n",
      "\u001b[1;31mNameError\u001b[0m: name 'none' is not defined"
     ]
    }
   ],
   "source": [
    "import db"
   ]
  },
  {
   "cell_type": "code",
   "execution_count": null,
   "metadata": {},
   "outputs": [],
   "source": []
  }
 ],
 "metadata": {
  "hide_input": false,
  "kernelspec": {
   "display_name": "Python 3",
   "language": "python",
   "name": "python3"
  },
  "language_info": {
   "codemirror_mode": {
    "name": "ipython",
    "version": 3
   },
   "file_extension": ".py",
   "mimetype": "text/x-python",
   "name": "python",
   "nbconvert_exporter": "python",
   "pygments_lexer": "ipython3",
   "version": "3.7.3"
  },
  "varInspector": {
   "cols": {
    "lenName": 16,
    "lenType": 16,
    "lenVar": 40
   },
   "kernels_config": {
    "python": {
     "delete_cmd_postfix": "",
     "delete_cmd_prefix": "del ",
     "library": "var_list.py",
     "varRefreshCmd": "print(var_dic_list())"
    },
    "r": {
     "delete_cmd_postfix": ") ",
     "delete_cmd_prefix": "rm(",
     "library": "var_list.r",
     "varRefreshCmd": "cat(var_dic_list()) "
    }
   },
   "types_to_exclude": [
    "module",
    "function",
    "builtin_function_or_method",
    "instance",
    "_Feature"
   ],
   "window_display": false
  }
 },
 "nbformat": 4,
 "nbformat_minor": 2
}
